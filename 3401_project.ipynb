{
 "cells": [
  {
   "cell_type": "markdown",
   "metadata": {},
   "source": [
    "# EECS 3401 Final Project\n",
    "\n",
    "# Author: Jamie Fletcher, Arshvir Singh, Kwonmin Bok\n",
    "\n",
    "**Original Dataset Source: Amitansh Joshi, Amit Parolkar, &amp; Vedant Das. (2023). <i>Spotify_1Million_Tracks</i> [Data set]. Kaggle. https://doi.org/10.34740/KAGGLE/DSV/5987852**"
   ]
  }
 ],
 "metadata": {
  "kernelspec": {
   "display_name": "Python 3",
   "language": "python",
   "name": "python3"
  },
  "language_info": {
   "codemirror_mode": {
    "name": "ipython",
    "version": 3
   },
   "file_extension": ".py",
   "mimetype": "text/x-python",
   "name": "python",
   "nbconvert_exporter": "python",
   "pygments_lexer": "ipython3",
   "version": "3.11.5"
  }
 },
 "nbformat": 4,
 "nbformat_minor": 2
}
